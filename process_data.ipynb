{
 "cells": [
  {
   "cell_type": "markdown",
   "source": [
    "The imports"
   ],
   "metadata": {
    "collapsed": false
   },
   "id": "5a8337fcf7eb2f01"
  },
  {
   "cell_type": "code",
   "execution_count": null,
   "id": "initial_id",
   "metadata": {
    "collapsed": true,
    "is_executing": true
   },
   "outputs": [],
   "source": [
    "!pip install pandas\n",
    "import pandas as pd\n"
   ]
  },
  {
   "cell_type": "code",
   "outputs": [],
   "source": [
    "# Charger le fichier source\n",
    "persons_df = pd.read_csv(\"./ir_ben_r.csv\")\n",
    "persons_df['person_id'] = persons_df.index\n",
    "\n",
    "# Renommer les colonnes pour correspondre aux noms standardisés\n",
    "persons_df.rename(columns={\n",
    "    \"NUM_ENQ\": \"person_source_value\",\n",
    "    \"ben_nai_ann\": \"year_of_birth\",\n",
    "    \"ben_nai_moi\": \"month_of_birth\",\n",
    "    \"ben_sex_cod\": \"gender_concept_id\"\n",
    "}, inplace=True)\n",
    "\n",
    "\n",
    "\n",
    "\n",
    "# Créer une table Location en extrayant les informations de la table Person\n",
    "location_df = persons_df[['ben_res_dpt', 'ben_res_reg']].drop_duplicates().reset_index(drop=True)\n",
    "location_df['location_id'] = location_df.index + 1  # Assignation d'un ID unique pour chaque ligne\n",
    "\n",
    "persons_df = pd.merge(persons_df, location_df, how='left', on=['ben_res_dpt', 'ben_res_reg'])\n",
    "new_persons_df=persons_df[[\"person_source_value\",\"year_of_birth\",\"gender_concept_id\",\"month_of_birth\",\"person_id\",\"location_id\"]]\n",
    "\n",
    "\n",
    "location_df.rename(columns={\n",
    "    \"ben_res_reg\" : \"state\" ,\n",
    "     \"ben_res_dpt\": \"address_1\",\n",
    "}, inplace=True) \n",
    "# Sauvegarder le résultat\n",
    "new_persons_df.to_csv(\"./Person.csv\", index=False) \n",
    "location_df.to_csv(\"./Location.csv\", index=False) \n",
    "\n",
    "new_persons_df"
   ],
   "metadata": {
    "collapsed": false
   },
   "id": "dfb4342921e77b1b"
  }
 ],
 "metadata": {
  "kernelspec": {
   "display_name": "Python 3",
   "language": "python",
   "name": "python3"
  },
  "language_info": {
   "codemirror_mode": {
    "name": "ipython",
    "version": 2
   },
   "file_extension": ".py",
   "mimetype": "text/x-python",
   "name": "python",
   "nbconvert_exporter": "python",
   "pygments_lexer": "ipython2",
   "version": "2.7.6"
  }
 },
 "nbformat": 4,
 "nbformat_minor": 5
}
